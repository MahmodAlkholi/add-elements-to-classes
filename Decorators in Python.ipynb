{
 "cells": [
  {
   "cell_type": "markdown",
   "id": "67210c34",
   "metadata": {},
   "source": [
    "# Classes in Python"
   ]
  },
  {
   "cell_type": "code",
   "execution_count": 13,
   "id": "650bffbe",
   "metadata": {},
   "outputs": [],
   "source": [
    "class Person:\n",
    "    def __init__(self , male = \"\" , fmale = \"\" , emploee = \"\" , age = 1):\n",
    "        self.male = male\n",
    "        self.fmale = fmale\n",
    "        self.emploee = emploee\n",
    "        self.age = age\n",
    "        \n",
    "    def show_person(self):\n",
    "        return f\"person is {self.male} he is {self.emploee} and he has {self.age} years old\""
   ]
  },
  {
   "cell_type": "code",
   "execution_count": 14,
   "id": "c1e7e5b7",
   "metadata": {},
   "outputs": [
    {
     "data": {
      "text/plain": [
       "'person is ALI he is GOVERNORMENT and he has 25 years old'"
      ]
     },
     "execution_count": 14,
     "metadata": {},
     "output_type": "execute_result"
    }
   ],
   "source": [
    "p = Person(\"ALI\" , \"\" , \"GOVERNORMENT\" , 25)\n",
    "p.show_person()"
   ]
  },
  {
   "cell_type": "markdown",
   "id": "6b4b2f90",
   "metadata": {},
   "source": [
    "# Decorators in Python"
   ]
  },
  {
   "cell_type": "code",
   "execution_count": 16,
   "id": "2a48865b",
   "metadata": {},
   "outputs": [],
   "source": [
    "def decorators(func):\n",
    "    def show_person():\n",
    "        print(\"befor\")\n",
    "        func()\n",
    "        print(\"after\")\n",
    "        \n",
    "    return show_person"
   ]
  },
  {
   "cell_type": "code",
   "execution_count": 23,
   "id": "99b2bd24",
   "metadata": {},
   "outputs": [],
   "source": [
    "@decorators\n",
    "def person():\n",
    "    print (f\"person name is ahmed , he is mail , his job is gov and he is 24 years old\")\n"
   ]
  },
  {
   "cell_type": "code",
   "execution_count": 24,
   "id": "29c62c14",
   "metadata": {},
   "outputs": [
    {
     "name": "stdout",
     "output_type": "stream",
     "text": [
      "befor\n",
      "person name is ahmed , he is mail , his job is gov and he is 24 years old\n",
      "after\n"
     ]
    }
   ],
   "source": [
    "person()"
   ]
  },
  {
   "cell_type": "markdown",
   "id": "e423c47f",
   "metadata": {},
   "source": [
    "# Another Example"
   ]
  },
  {
   "cell_type": "code",
   "execution_count": 25,
   "id": "c358339c",
   "metadata": {},
   "outputs": [],
   "source": [
    "def d_calculator(func):\n",
    "    def calc(a , b):\n",
    "        if a<b:a,b=b,a\n",
    "        return func(a , b)\n",
    "    return calc\n",
    "\n",
    "\n",
    "@d_calculator\n",
    "def num(n1 , n2):\n",
    "    return n1 / n2\n",
    "\n"
   ]
  },
  {
   "cell_type": "code",
   "execution_count": 30,
   "id": "b9cb42c6",
   "metadata": {},
   "outputs": [
    {
     "data": {
      "text/plain": [
       "2.0"
      ]
     },
     "execution_count": 30,
     "metadata": {},
     "output_type": "execute_result"
    }
   ],
   "source": [
    "dev = num(2,4)\n",
    "dev"
   ]
  },
  {
   "cell_type": "markdown",
   "id": "67b1baeb",
   "metadata": {},
   "source": [
    "# Thats How We Use Decorators in Update Classes"
   ]
  },
  {
   "cell_type": "code",
   "execution_count": 31,
   "id": "db591928",
   "metadata": {},
   "outputs": [
    {
     "name": "stdout",
     "output_type": "stream",
     "text": [
      "Value 1\n",
      "Value 2\n",
      "New Element\n"
     ]
    }
   ],
   "source": [
    "\n",
    "def add_element(cls):\n",
    "    class NewClass(cls):\n",
    "        def __init__(self, *args, **kwargs):\n",
    "            self.new_element = \"New Element\"\n",
    "            super().__init__(*args, **kwargs)\n",
    "    return NewClass\n",
    "\n",
    "@add_element\n",
    "class MyClass:\n",
    "    def __init__(self, arg1, arg2):\n",
    "        self.arg1 = arg1\n",
    "        self.arg2 = arg2\n",
    "\n",
    "my_object = MyClass(\"Value 1\", \"Value 2\")\n",
    "print(my_object.arg1) # Output: Value 1\n",
    "print(my_object.arg2) # Output: Value 2\n",
    "print(my_object.new_element) # Output: New Element\n"
   ]
  },
  {
   "cell_type": "code",
   "execution_count": null,
   "id": "88bc5a4d",
   "metadata": {},
   "outputs": [],
   "source": []
  }
 ],
 "metadata": {
  "kernelspec": {
   "display_name": "Python 3 (ipykernel)",
   "language": "python",
   "name": "python3"
  },
  "language_info": {
   "codemirror_mode": {
    "name": "ipython",
    "version": 3
   },
   "file_extension": ".py",
   "mimetype": "text/x-python",
   "name": "python",
   "nbconvert_exporter": "python",
   "pygments_lexer": "ipython3",
   "version": "3.10.9"
  }
 },
 "nbformat": 4,
 "nbformat_minor": 5
}
